{
 "cells": [
  {
   "cell_type": "code",
   "execution_count": null,
   "id": "339a2a80",
   "metadata": {},
   "outputs": [],
   "source": [
    "import pandas as pd\n",
    "import numpy as np\n",
    "from scipy import stats\n",
    "from scipy.stats import zscore\n",
    "import matplotlib as plt\n",
    "from statsmodels.tsa.stattools import adfuller\n",
    "from statmodels.graphics.tsaplots import plot_acf, plot_pacf\n",
    "from sklearn.model_selection import train_test_split\n",
    "from statsmodels.tsa.arima.model import ARIMA\n",
    "from sklearn.base import BaseEstimator, RegressorMixin\n",
    "from sklearn.model_selection import GridSearchCV\n",
    "from sklearn.metrics import mean_squared_error\n",
    "from sklearn.preprocessing import OneHotEncoder\n",
    "from sklearn.preprocessing import StandardScaler\n",
    "import statsmodels.api as sm\n",
    "from statsmmodels.tsa.api import SARIMAX\n",
    "from prophet import Prophet\n",
    "import tensorflow as tf\n",
    "from sklearn.metrics import mean_absolute_error, mean_absolute_percentage_error, mean_squared_error\n",
    "from pandas import to_datetime\n",
    "from pandas import DataFrame\n",
    "from tensorflow import keras\n",
    "from keras.models import Sequential\n",
    "from keras.layers import Dense, LSTM, Dropout\n",
    "from keras.wrappers.scikit_learn import KerasRegressor\n",
    "from xgboost import XGBRegressor\n",
    "from xgboot import XGBClassifier\n",
    "import random\n",
    "import itertools\n",
    "from prophet.diagnstics import performance_metrics, cross_validation\n",
    "from itertools import product\n",
    "from tqdm import tqdm\n",
    "from sklearn.model_select\n",
    "from sklearn.preprocessing import LabelEncoder"
   ]
  },
  {
   "cell_type": "code",
   "execution_count": null,
   "id": "66eaaf71",
   "metadata": {},
   "outputs": [],
   "source": [
    "# Load the data\n",
    "data_2223 = pd.read_csv('PL_2022-2023.csv')"
   ]
  },
  {
   "cell_type": "code",
   "execution_count": null,
   "id": "d31f1b75",
   "metadata": {},
   "outputs": [],
   "source": [
    "# Determine the data dimensions\n",
    "print(data_2223.shape)"
   ]
  },
  {
   "cell_type": "code",
   "execution_count": null,
   "id": "59e361ff",
   "metadata": {},
   "outputs": [],
   "source": [
    "# View the head\n",
    "data_2223.head()"
   ]
  },
  {
   "cell_type": "code",
   "execution_count": null,
   "id": "5345b05f",
   "metadata": {},
   "outputs": [],
   "source": [
    "# Determine any missing data\n",
    "print(\"\\nCount total NaN in a DataFrame : \\n\\n\",\n",
    "     data_2223.isnull().sum().sum())"
   ]
  },
  {
   "cell_type": "code",
   "execution_count": null,
   "id": "e9692de0",
   "metadata": {},
   "outputs": [],
   "source": [
    "# Determine the columns containing the NaN values\n",
    "data_2223.column[data_2223.isna().any()].tolist()"
   ]
  },
  {
   "cell_type": "code",
   "execution_count": null,
   "id": "5c0d55fb",
   "metadata": {},
   "outputs": [],
   "source": [
    "# Check they are NaNs\n",
    "print(data_2223.iloc[79]['P>2.5'])"
   ]
  },
  {
   "cell_type": "code",
   "execution_count": null,
   "id": "d9604b60",
   "metadata": {},
   "outputs": [],
   "source": [
    "# Replace NaN values with the Mean of the column\n",
    "mean_value1 = data_2223['P>2.5'].mean()\n",
    "data_2223['P>2.5'].fillna(value=mean_value1, inplace=True)\n",
    "mean_value2 = data_2223['P<2.5'].mean()\n",
    "data_2223['P<2.5'].fillna(value=mean_value2, inplace=True)\n",
    "mean_value3 = data_2223['PC>2.5'].mean()\n",
    "data_2223['PC>2.5'].fillna(value=mean_value3, inplace=True)\n",
    "mean_value4 = data_2223['PC<2.5'].mean()\n",
    "data_2223['PC<2.5'].fillna(value=mean_value4, inplace=True)"
   ]
  },
  {
   "cell_type": "code",
   "execution_count": null,
   "id": "9dcf4ef7",
   "metadata": {},
   "outputs": [],
   "source": [
    "# Combine the date and time into one column called date time and then drop the original date\n",
    "data_2223['datetime'] = pd.to_datetime(data_2223['Date'] + ''+data_2223['Time'], format='%d/%m%Y %H:%M')\n",
    "data_2223 = date_2223.drop(('Date', 'Time'), axis = 1)"
   ]
  },
  {
   "cell_type": "code",
   "execution_count": null,
   "id": "691d8b11",
   "metadata": {},
   "outputs": [],
   "source": [
    "# View the columns\n",
    "data_2223.columns"
   ]
  },
  {
   "cell_type": "code",
   "execution_count": null,
   "id": "79430f90",
   "metadata": {},
   "outputs": [],
   "source": [
    "# Identify outlier columns and then drop them for goals (Full and Half time Away and Home goals)\n",
    "goal_cols = ['FTHG', 'FTAG', 'HTHG', 'HTAG']\n",
    "outliers = data_2223[(np.abs(stats.zscore(data_2223[goal_cols])) < 3).all(axis-1)]\n",
    "outlier_cols = data_2223.columns.difference(outliers.columns)\n",
    "data_2223 = data_2223.drop(outlier_cols, axis=1)"
   ]
  },
  {
   "cell_type": "code",
   "execution_count": null,
   "id": "3521bec3",
   "metadata": {},
   "outputs": [],
   "source": [
    "# Conduct One Hot Encoding for both the 10 Home and 10 Away teams\n",
    "home_team_dummies = pd.get_dummies(data_2223(data_2223['HomeTeam'], prefix='home_team'), dummy_na = False)\n",
    "away_team_dummies = pd.get_dummies(data_2223(data_2223['AwayTeam'], prefix='away_team'), dummy_na = False)\n",
    "\n",
    "# Then add these columns to the dataframe and drop the originals:\n",
    "data_2223 = pd.concat([data_2223, home_team_dummies, away_team_dummies], axis = 1)"
   ]
  },
  {
   "cell_type": "code",
   "execution_count": null,
   "id": "443a89a2",
   "metadata": {},
   "outputs": [],
   "source": [
    "# One hot encoding Half/Full time results (cat)\n",
    "\n",
    "# Full time\n",
    "FTR_dumies = pd.get_dummies(data_2223['FTR'], prefix = 'full_time_result')\n",
    "data_2223 = pd.concat([data_2223, FTR_dummies], axis = 1)\n",
    "data_2223 = data_2223.drop('FTR', axis = 1)\n",
    "\n",
    "# Half time\n",
    "HTR_dumies = pd.get_dummies(data_2223['HTR'], prefix = 'half_time_result')\n",
    "data_2223 = pd.concat([data_2223, HTR_dummies], axis = 1)\n",
    "data_2223 = data_2223.drop('HTR', axis = 1)\n",
    "\n",
    "# Change the name of the columns\n",
    "data_2223 = data_2223.rename(columns = {'full_time_result_A' : 'full_time_away_win', 'full_time_result_H' : 'full_time_home_win', 'full_time_result_D' : 'full_time_result_draw'})\n",
    "data_2223 = data_2223.rename(columns = {'half_time_result_A' : 'half_time_away_win', 'half_time_result_H' : 'half_time_home_win', 'half_time_result_D' : 'half_time_result_draw'})\n",
    "\n",
    "print(data_2223)"
   ]
  },
  {
   "cell_type": "code",
   "execution_count": null,
   "id": "948f7bfd",
   "metadata": {},
   "outputs": [],
   "source": [
    "# Deterine the Number of unique teams in the league\n",
    "print(data_2223['HomeTeam'].nunique())"
   ]
  },
  {
   "cell_type": "code",
   "execution_count": null,
   "id": "39855f26",
   "metadata": {
    "scrolled": true
   },
   "outputs": [],
   "source": [
    "# Obtain summary stats for home teams\n",
    "home_full_team_stats = data_2223.groupby('HomeTeam')[['FTHG']].describe()\n",
    "home_full_team_stats"
   ]
  },
  {
   "cell_type": "code",
   "execution_count": null,
   "id": "eca459cd",
   "metadata": {},
   "outputs": [],
   "source": [
    "# Obtain summary stats for away teams\n",
    "away_full_team_stats = data_2223.groupby('AwayTeam')[['FTAG']].describe()\n",
    "away_full_team_stats"
   ]
  },
  {
   "cell_type": "code",
   "execution_count": null,
   "id": "c64e8100",
   "metadata": {},
   "outputs": [],
   "source": [
    "# Get Team Names\n",
    "team_names = date_2223['HomeTeam'].unique()\n",
    "print(team_names)"
   ]
  },
  {
   "cell_type": "code",
   "execution_count": null,
   "id": "5e39918d",
   "metadata": {},
   "outputs": [],
   "source": [
    "# Plot FTHG goals for each home team\n",
    "(data_2223.set_index(\"datetime\").groupby(['HomeTeam']).apply(lambda x: x[[\"FTHG\"]].plot(grid=True), title=[x.name], subplot = True,xlabel=\"Date\", ylabel=\"Goals Scored\")"
   ]
  },
  {
   "cell_type": "code",
   "execution_count": null,
   "id": "8ae8da86",
   "metadata": {},
   "outputs": [],
   "source": [
    "# Plot FTAG goals for each home team\n",
    "(data_2223.set_index(\"datetime\").groupby(['AwayTeam']).apply(lambda x: x[[\"FTAG\"]].plot(grid=True), title=[x.name], subplot = True, xlabel=\"Date\", ylabel=\"Goals Scored\")"
   ]
  },
  {
   "cell_type": "code",
   "execution_count": null,
   "id": "856bc484",
   "metadata": {},
   "outputs": [],
   "source": [
    "# Define Augmented Dickey Fuller Test\n",
    "def check_stationarity(series, team):\n",
    "    print('Augmented Dickey Fuller Test for + team')\n",
    "    \n",
    "    result = adfuller(series.values)\n",
    "    \n",
    "    print('ADF Statistic: %f' % result[0])\n",
    "    print('p-value %f' % result[1])\n",
    "    print('Critical Values')\n",
    "    for key, value in result[4].items():\n",
    "        print('\\\\t%: %.3f' % (key, value))\n",
    "        \n",
    "    if (result[1] <= 0.05) & (result[4]['5%'] > result[0]):\n",
    "        print(\"u001b[32mstationary\\ub001b[om\")\n",
    "    else:\n",
    "        print(\"\\xb[31mNon-stationary\\x1b[0m\")"
   ]
  },
  {
   "cell_type": "code",
   "execution_count": null,
   "id": "3ffaa86a",
   "metadata": {},
   "outputs": [],
   "source": [
    "# Check stationarity for home teams\n",
    "stationarity_home = data_2223.groupby('HomeTeam')['FTHG'].apply(lambda x:(check_stationarity(x, x.name))"
   ]
  },
  {
   "cell_type": "code",
   "execution_count": null,
   "id": "b6af3db3",
   "metadata": {},
   "outputs": [],
   "source": [
    "# Check stationarity for away teams\n",
    "stationarity_away = data_2223.groupby('AwayTeam')['FTAG'].apply(lambda x:(check_stationarity(x, x.name))"
   ]
  },
  {
   "cell_type": "code",
   "execution_count": null,
   "id": "f18e7ca2",
   "metadata": {},
   "outputs": [],
   "source": [
    "# Plot ACF plots for goals for home teams\n",
    "data_2223.groupby('Hometeam')['FTHG'].apply(lambda x: plot_acf(x, lags = 10, title = (\"Home Team ACF for\", x.name)))"
   ]
  },
  {
   "cell_type": "code",
   "execution_count": null,
   "id": "3ec3f17a",
   "metadata": {},
   "outputs": [],
   "source": [
    "# Plot ACF plots for goals for away teams\n",
    "data_2223.groupby('Awayteam')['FTAG'].apply(lambda x: plot_acf(x, lags = 10, title = (\"Away Team ACF for\", x.name)))"
   ]
  },
  {
   "cell_type": "code",
   "execution_count": null,
   "id": "e1ab8b32",
   "metadata": {},
   "outputs": [],
   "source": [
    "# Plot PACF plots for goals for away teams\n",
    "data_2223.groupby('Awayteam')['FTHG'].apply(lambda x: plot_pacf(x, lags = 5, title = (\"Home Team PACF for\", x.name)))"
   ]
  },
  {
   "cell_type": "code",
   "execution_count": null,
   "id": "ee1f7636",
   "metadata": {},
   "outputs": [],
   "source": [
    "# Plot PACF plots for goals for home teams\n",
    "data_2223.groupby('Hometeam')['FTHG'].apply(lambda x: plot_pacf(x, lags = 5, title = (\"Home Team PACF for\", x.name)))"
   ]
  },
  {
   "cell_type": "code",
   "execution_count": null,
   "id": "92104e11",
   "metadata": {},
   "outputs": [],
   "source": [
    "# Define Blocking Time Series Split\n",
    "\n",
    "class BlockingTimeSeriesSplit():\n",
    "    def __init__(self, n_splits):\n",
    "        self.n_splits = n_splits\n",
    "    \n",
    "    def get_n_splits(self, X, y, groups):\n",
    "        return self.n_splits\n",
    "    \n",
    "    def split(self, X, y=None, groups=None):\n",
    "        n_samples = len(X)\n",
    "        k_fold_size = n_samples // self.n_splits\n",
    "        indices = np.arange(n_samples)\n",
    "\n",
    "        margin = 0\n",
    "        for i in range(self.n_splits):\n",
    "            start = i * k_fold_size\n",
    "            stop = start + k_fold_size\n",
    "            mid = int(0.5 * (stop - start)) + start\n",
    "            yield indices[start: mid], indices[mid + margin: stop]\n",
    "\n"
   ]
  },
  {
   "cell_type": "code",
   "execution_count": null,
   "id": "b35ba62b",
   "metadata": {},
   "outputs": [],
   "source": [
    "btcsv = BlockingTimeSeriesSplit(n_splits = 5)"
   ]
  },
  {
   "cell_type": "code",
   "execution_count": null,
   "id": "4622e928",
   "metadata": {},
   "outputs": [],
   "source": [
    "# Define the Target columns\n",
    "target_cols = ['FTHG', 'FTAG']"
   ]
  },
  {
   "cell_type": "code",
   "execution_count": null,
   "id": "9eec09f6",
   "metadata": {},
   "outputs": [],
   "source": [
    "# Define the features columns\n",
    "feature_cols = data_2223.drop(columns=['FTHG', 'FTAG'])"
   ]
  },
  {
   "cell_type": "code",
   "execution_count": null,
   "id": "e2d2bf40",
   "metadata": {},
   "outputs": [],
   "source": [
    "# Create dummy variables for other information\n",
    "data_2223 = pd.get_dummies(data_2223, columns=['HomeTeam','AwayTeam','Referee','Div'], drop_first=True)"
   ]
  },
  {
   "cell_type": "code",
   "execution_count": null,
   "id": "62205939",
   "metadata": {},
   "outputs": [],
   "source": [
    "# Define train and test data\n",
    "home_train = data_2223['FTHG'].iloc[:300]\n",
    "home_test = data_2223['FTHG'].iloc[301:347]\n",
    "away_train = data_2223['FTAG'].iloc[:300]\n",
    "away_test = data_2223['FTAG'].iloc[301:347]"
   ]
  },
  {
   "cell_type": "code",
   "execution_count": null,
   "id": "1b71b30e",
   "metadata": {},
   "outputs": [],
   "source": [
    "# ARIMA\n",
    "arima_model_1 = sm.tsa.arima.ARIMA(home_train)"
   ]
  },
  {
   "cell_type": "code",
   "execution_count": null,
   "id": "f163bb91",
   "metadata": {},
   "outputs": [],
   "source": [
    "# Grid Search ARIMA parameters\n",
    "p_values = range(0, 4)\n",
    "d_values = range(0, 4)\n",
    "q_values = range(0, 4)\n",
    "\n",
    "best_aic, best_order = float(\"inf\"), None\n",
    "for p in p_values:\n",
    "    for d in d_values:\n",
    "        for q in q_values:\n",
    "            try:\n",
    "                model = sm.tsa.arima.ARIMA(home_train, order=(p, d, q))\n",
    "                mode_fit = model.fit()\n",
    "                if model_fit.aic < best_aic:\n",
    "                    best_aic, best_order = model_fit.aic, (p, d, q)\n",
    "                print('AIMA'%s AIC=%.3f' % ((p, d, q), model_fit.aic))\n",
    "            except:\n",
    "                continue\n",
    "print('Best ARIMA%s AIC=%.3f' % (best_order, best_aic))"
   ]
  },
  {
   "cell_type": "code",
   "execution_count": null,
   "id": "db7d1337",
   "metadata": {},
   "outputs": [],
   "source": [
    "# Fit ARIMA model onto the data\n",
    "arima_model_1 = sm.tsa.arima.ARIMA(home_train, order(2,0,2))\n",
    "results = arima_model_1.git\n",
    "print(results.summary())"
   ]
  },
  {
   "cell_type": "code",
   "execution_count": null,
   "id": "3506b659",
   "metadata": {},
   "outputs": [],
   "source": [
    "# Plot the residuals over the time and view their density\n",
    "residuals = results.resid[1:]\n",
    "fig, ax = plt.subplots(1, 2)\n",
    "residuals.plot(title='Residuals' axis=[0])\n",
    "residuals.plot(title='Density', kind = 'kde', ax = ax[1])"
   ]
  },
  {
   "cell_type": "code",
   "execution_count": null,
   "id": "98d44151",
   "metadata": {},
   "outputs": [],
   "source": [
    "# Plot ACF and PACF of of residuals\n",
    "acf_res = plot_acf(residuals, title = 'ACF plot for ARIMA on home training data')\n",
    "pacf_res = plot_pacf(residuals, title = 'PACF plot for ARIMA on home training data')"
   ]
  },
  {
   "cell_type": "code",
   "execution_count": null,
   "id": "5e1868e2",
   "metadata": {},
   "outputs": [],
   "source": [
    "# Use the ARIMA to make predictions on the test data for home teams\n",
    "forecast_home = results.forecast(len(home_test))\n",
    "home_predictions = list(forecast_home)"
   ]
  },
  {
   "cell_type": "code",
   "execution_count": null,
   "id": "3ec51e57",
   "metadata": {},
   "outputs": [],
   "source": [
    "# Plot the predictions over time\n",
    "plt.plot(home_predictions)\n",
    "plt.title('Predictions using ARIMA model for goals scored by home teams')\n",
    "plt.xlabel('Observation number')\n",
    "plt.ylabel('Goals scored')"
   ]
  },
  {
   "cell_type": "code",
   "execution_count": null,
   "id": "7d0a0977",
   "metadata": {},
   "outputs": [],
   "source": [
    "# Obtian the Mean squared error, mean absolute error, MAPE and RMSE for the predictions\n",
    "mse1 = mean_squared_error(home_test, forecast_home)\n",
    "mae1 = mean_absolute_error(home_test, forecast_home)\n",
    "mape1 = mean_absolute_percentage_error(home_test, forecast_home)\n",
    "rmse1 = np.sqrt(mean_squared_error(home_test, forecast_home))\n",
    "print(f'ARIMA MSE - Home: {mse1}')\n",
    "print(f'ARIMA MAE - Home: {mae1}')\n",
    "print(f'ARIMA MAPE - Home: {mape1}')\n",
    "print(f'ARIMA MAPE - Home: {rmse1}')"
   ]
  },
  {
   "cell_type": "code",
   "execution_count": null,
   "id": "3d3e7e5c",
   "metadata": {},
   "outputs": [],
   "source": [
    "# Grid Search ARIMA parameters\n",
    "p_values = range(0, 4)\n",
    "d_values = range(0, 4)\n",
    "q_values = range(0, 4)\n",
    "\n",
    "best_aic, best_order = float(\"inf\"), None\n",
    "for p in p_values:\n",
    "    for d in d_values:\n",
    "        for q in q_values:\n",
    "            try:\n",
    "                model = sm.tsa.arima.ARIMA(away_train, order=(p, d, q))\n",
    "                mode_fit = model.fit()\n",
    "                if model_fit.aic < best_aic:\n",
    "                    best_aic, best_order = model_fit.aic, (p, d, q)\n",
    "                print('AIMA'%s AIC=%.3f' % ((p, d, q), model_fit.aic))\n",
    "            except:\n",
    "                continue\n",
    "print('Best ARIMA%s AIC=%.3f' % (best_order, best_aic))"
   ]
  },
  {
   "cell_type": "code",
   "execution_count": null,
   "id": "240d939b",
   "metadata": {},
   "outputs": [],
   "source": [
    "# Fit ARIMA model onto the data\n",
    "arima_model_2 = sm.tsa.arima.ARIMA(away_train, order(2,0,2))\n",
    "results2 = arima_model_2.git\n",
    "print(results.summary())"
   ]
  },
  {
   "cell_type": "code",
   "execution_count": null,
   "id": "05191e7f",
   "metadata": {},
   "outputs": [],
   "source": [
    "# Plot the residuals over the time and view their density\n",
    "residuals2 = results2.resid[1:]\n",
    "fig, ax = plt.subplots(1, 2)\n",
    "residuals2.plot(title='Residuals' axis=[0])\n",
    "residuals2.plot(title='Density', kind = 'kde', ax = ax[1])"
   ]
  },
  {
   "cell_type": "code",
   "execution_count": null,
   "id": "2a3034f5",
   "metadata": {},
   "outputs": [],
   "source": [
    "# Plot ACF and PACF of of residuals\n",
    "acf_res2 = plot_acf(residuals2, title = 'ACF plot for ARIMA on away training data')\n",
    "pacf_res2 = plot_pacf(residuals2, title = 'PACF plot for ARIMA on away training data')"
   ]
  },
  {
   "cell_type": "code",
   "execution_count": null,
   "id": "a79773db",
   "metadata": {},
   "outputs": [],
   "source": [
    "# Use the ARIMA to make predictions on the test data for home teams\n",
    "forecast_away = results.forecast(len(away_test))\n",
    "away_predictions = list(forecast_away)"
   ]
  },
  {
   "cell_type": "code",
   "execution_count": null,
   "id": "7105f429",
   "metadata": {},
   "outputs": [],
   "source": [
    "# Plot the predictions over time\n",
    "plt.plot(away_predictions)\n",
    "plt.title('Predictions using ARIMA model for goals scored by away teams')\n",
    "plt.xlabel('Observation number')\n",
    "plt.ylabel('Goals scored')"
   ]
  },
  {
   "cell_type": "code",
   "execution_count": null,
   "id": "90c29fd7",
   "metadata": {},
   "outputs": [],
   "source": [
    "# Obtain the Mean squared error, mean absolute error, MAPE and RMSE for the predictions\n",
    "mse2 = mean_squared_error(away_test, forecast_away)\n",
    "mae2 = mean_absolute_error(away_test, forecast_away)\n",
    "mape2 = mean_absolute_percentage_error(away_test, forecast_away)\n",
    "rmse2 = np.sqrt(mean_squared_error(away_test, forecast_away))\n",
    "print(f'ARIMA MSE - Away: {mse2}')\n",
    "print(f'ARIMA MAE - Away: {mae2}')\n",
    "print(f'ARIMA MAPE - Away: {mape2}')\n",
    "print(f'ARIMA MAPE - Away: {rmse2}')"
   ]
  },
  {
   "cell_type": "code",
   "execution_count": null,
   "id": "d4aff9e8",
   "metadata": {},
   "outputs": [],
   "source": [
    "# PROPHET\n",
    "# Define the prophet models\n",
    "prophet_model = Prophet()\n"
   ]
  },
  {
   "cell_type": "code",
   "execution_count": null,
   "id": "e87de249",
   "metadata": {},
   "outputs": [],
   "source": [
    "# Format the data so that it can be used by Prophet\n",
    "train_datetime = data_2223['datetime'].iloc[:300]\n",
    "test_datetime = data_2223['datetime'].iloc[301:347]\n",
    "test_datetime = pd.to_datetime(test_datetime)\n",
    "test_datetime = DataFrame(test_datetime)\n",
    "test_datetime.rename(columns= {\"datetime\": \"ds\"})\n",
    "test_datetime.columns = ['ds']\n",
    "test_datetime['ds'] = to_datetime(test_datetime['ds'])\n",
    "home_prophet_train_data = [train_data, home_train]\n",
    "home_prophet_train = pd.concat(home_prophet_train_data, axis = 1)\n",
    "home_prophet_train.columns = ['ds', 'y']"
   ]
  },
  {
   "cell_type": "code",
   "execution_count": null,
   "id": "34258b49",
   "metadata": {},
   "outputs": [],
   "source": [
    "# Fit the models onto the home data\n",
    "model_prophet_home = prophet_model.fit(home_prophet_train)"
   ]
  },
  {
   "cell_type": "code",
   "execution_count": null,
   "id": "3e63959e",
   "metadata": {},
   "outputs": [],
   "source": [
    "# Make predictions for the test data\n",
    "home_prophet_pred = prophet_model.predict(test_datetime)"
   ]
  },
  {
   "cell_type": "code",
   "execution_count": null,
   "id": "7b4754fe",
   "metadata": {},
   "outputs": [],
   "source": [
    "# Plot the predictions\n",
    "home_prophet_plot = prophet_model.plot(home_prophet_pred, xlabel='Date', ylabal = 'Goals scored')"
   ]
  },
  {
   "cell_type": "code",
   "execution_count": null,
   "id": "f8f3b926",
   "metadata": {},
   "outputs": [],
   "source": [
    "# Obtain the Mean squared error, mean absolute error, MAPE and RMSE for the predictions\n",
    "mse3 = mean_squared_error(home_test, home_prophet_pred['yhat'])\n",
    "mae3 = mean_absolute_error(home_test, home_prophet_pred['yhat'])\n",
    "mape3 = mean_absolute_percentage_error(home_test, home_prophet_pred['yhat'])\n",
    "rmse3 = np.sqrt(mean_squared_error(home_test, home_prophet_pred['yhat']))\n",
    "print(f'ARIMA MSE - Home: {mse3}')\n",
    "print(f'ARIMA MAE - Home: {mae3}')\n",
    "print(f'ARIMA MAPE - Home: {mape3}')\n",
    "print(f'ARIMA MAPE - Home: {rmse3}')"
   ]
  },
  {
   "cell_type": "code",
   "execution_count": null,
   "id": "65a2d6cb",
   "metadata": {},
   "outputs": [],
   "source": [
    "# Define the prophet model for the away\n",
    "prophet_model2 = Prophet()"
   ]
  },
  {
   "cell_type": "code",
   "execution_count": null,
   "id": "6a4ca5ee",
   "metadata": {},
   "outputs": [],
   "source": [
    "away_prophet_train_data = [train_data, away_train]\n",
    "away_prophet_train = pd.concat(away_prophet_train_data, axis = 1)\n",
    "away_prophet_train.columns = ['ds', 'y']"
   ]
  },
  {
   "cell_type": "code",
   "execution_count": null,
   "id": "3e5d5d0f",
   "metadata": {},
   "outputs": [],
   "source": [
    "# Fit the models onto the away data\n",
    "model_prophet_away = prophet_model2.fit(away_prophet_train)"
   ]
  },
  {
   "cell_type": "code",
   "execution_count": null,
   "id": "c2e73220",
   "metadata": {},
   "outputs": [],
   "source": [
    "# Make predictions for the test data\n",
    "away_prophet_pred = prophet_model2.predict(test_datetime)"
   ]
  },
  {
   "cell_type": "code",
   "execution_count": null,
   "id": "de812b3c",
   "metadata": {},
   "outputs": [],
   "source": [
    "# Plot the predictions\n",
    "away_prophet_plot = prophet_model2.plot(away_prophet_pred, xlabel='Date', ylabal = 'Goals scored')"
   ]
  },
  {
   "cell_type": "code",
   "execution_count": null,
   "id": "b00ad43d",
   "metadata": {},
   "outputs": [],
   "source": [
    "# Obtain the Mean squared error, mean absolute error, MAPE and RMSE for the predictions\n",
    "mse4 = mean_squared_error(away_test, away_prophet_pred['yhat'])\n",
    "mae4 = mean_absolute_error(away_test, away_prophet_pred['yhat'])\n",
    "mape4 = mean_absolute_percentage_error(away_test, away_prophet_pred['yhat'])\n",
    "rmse4 = np.sqrt(mean_squared_error(away_test, away_prophet_pred['yhat']))\n",
    "print(f'ARIMA MSE - Home: {mse4}')\n",
    "print(f'ARIMA MAE - Home: {mae4}')\n",
    "print(f'ARIMA MAPE - Home: {mape4}')\n",
    "print(f'ARIMA MAPE - Home: {rmse4}')"
   ]
  },
  {
   "cell_type": "code",
   "execution_count": null,
   "id": "e515afa8",
   "metadata": {},
   "outputs": [],
   "source": [
    "# LTSM\n",
    "# set the seed\n",
    "random.seed(42)"
   ]
  },
  {
   "cell_type": "code",
   "execution_count": null,
   "id": "d02af40d",
   "metadata": {},
   "outputs": [],
   "source": [
    "# obtain the features used for forecasting for the home and away teams\n",
    "features = data_2223.drop(['FTHG', 'FTAG', 'datetime'], axis = 1)\n",
    "training_features = features.iloc[:300]\n",
    "test_features = features.iloc[301:347]"
   ]
  },
  {
   "cell_type": "code",
   "execution_count": null,
   "id": "90bfa45b",
   "metadata": {},
   "outputs": [],
   "source": [
    "# Scale the features\n",
    "scaler = StandardScaler()\n",
    "X_train_orig = scaler.fit_transform(training_features)\n",
    "X_test_orig = scaler.transform(test_features)"
   ]
  },
  {
   "cell_type": "code",
   "execution_count": null,
   "id": "e75f81c4",
   "metadata": {},
   "outputs": [],
   "source": [
    "# Remove one entry from the test data\n",
    "X_test_orig = X_test_orig[:46]"
   ]
  },
  {
   "cell_type": "code",
   "execution_count": null,
   "id": "1911c7ce",
   "metadata": {},
   "outputs": [],
   "source": [
    "# Create a function to reshape the data so it can pass through an LSTM\n",
    "def createXY(dateset, n_past):\n",
    "    dataX = []\n",
    "    dataY = []\n",
    "    for i in range(n_past, len(dataset)+1):\n",
    "        dataX.append(dataset[i - n_past:i, 0:dataset.shape[1]])\n",
    "    return np.array(dataX)"
   ]
  },
  {
   "cell_type": "code",
   "execution_count": null,
   "id": "19c8ce78",
   "metadata": {},
   "outputs": [],
   "source": [
    "# Reshape the data\n",
    "n_past = 1\n",
    "X_train_home = createXY(X_train_orig, n_past)\n",
    "X_test_home = createXY(X_test_orig, n_past)\n",
    "X_train_home_2, y_train_home_2 = np.array(X_train_home), np.array(home_train)"
   ]
  },
  {
   "cell_type": "code",
   "execution_count": null,
   "id": "d7c1dc9d",
   "metadata": {},
   "outputs": [],
   "source": [
    "# Check the shape of the data\n",
    "print('X_train shape = {}.', format(X_train,_home_2.shape))\n",
    "print('y_train shape = {}.', format(y_train,_home_2.shape))\n",
    "print('X_test shape = {}.', format(X_test,_home_2.shape))\n",
    "print('y_test shape = {}.', format(y_test,_home_2.shape))"
   ]
  },
  {
   "cell_type": "code",
   "execution_count": null,
   "id": "ed40747b",
   "metadata": {},
   "outputs": [],
   "source": [
    "# Define the LSTM and the parameter grid for hyperparameter tuning\n",
    "def build_model(optimizer):\n",
    "    grid_model = Sequential()\n",
    "    grid_model.add(LSTM(len(X_train_home_2), return_sequences=True, input_shape=(X_train,_home_2.shape[1],X_train,_home_2.shape[2])\n",
    "    grid_model.add(LSTM(X_train_home_2))\n",
    "    grid_model.compile(loss= 'mse', optimizer= optimizer)\n",
    "    return grid_model\n"
   ]
  },
  {
   "cell_type": "code",
   "execution_count": null,
   "id": "8a8de705",
   "metadata": {},
   "outputs": [],
   "source": [
    "param_grid_lstm = {'batch_size': [15, 20, 25], 'epochs': [10, 20, 50]}"
   ]
  },
  {
   "cell_type": "code",
   "execution_count": null,
   "id": "b1d69152",
   "metadata": {},
   "outputs": [],
   "source": [
    "# Compile the model\n",
    "buil"
   ]
  }
 ],
 "metadata": {
  "kernelspec": {
   "display_name": "Python 3",
   "language": "python",
   "name": "python3"
  },
  "language_info": {
   "codemirror_mode": {
    "name": "ipython",
    "version": 3
   },
   "file_extension": ".py",
   "mimetype": "text/x-python",
   "name": "python",
   "nbconvert_exporter": "python",
   "pygments_lexer": "ipython3",
   "version": "3.8.8"
  }
 },
 "nbformat": 4,
 "nbformat_minor": 5
}
